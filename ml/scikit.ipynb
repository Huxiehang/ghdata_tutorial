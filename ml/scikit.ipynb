{
 "cells": [
  {
   "cell_type": "code",
   "execution_count": 3,
   "metadata": {},
   "outputs": [],
   "source": [
    "# 导入库\n",
    "import numpy as np\n",
    "import pandas as pd\n",
    "import matplotlib.pyplot as plt"
   ]
  },
  {
   "cell_type": "code",
   "execution_count": 4,
   "metadata": {},
   "outputs": [],
   "source": [
    "def normalization(data):\n",
    "    mu = np.mean(data, axis=0)\n",
    "    sigma = np.std(data, axis=0)\n",
    "    return (data - mu) / sigma"
   ]
  },
  {
   "cell_type": "code",
   "execution_count": 5,
   "metadata": {},
   "outputs": [],
   "source": [
    "# 读取excel数据\n",
    "excel_file='../data/test1.xlsx'\n",
    "df = pd.read_excel(excel_file, 'Sheet1', index_col=None, na_values=['NA'])\n",
    "data=df.to_numpy()"
   ]
  },
  {
   "cell_type": "code",
   "execution_count": 6,
   "metadata": {},
   "outputs": [],
   "source": [
    "# 拆分数据\n",
    "params=data[:,:16]\n",
    "radias=data[:,16]\n",
    "sunhours=data[:,17]\n",
    "features=data[:,18:]\n",
    "# results=data[:,16:18]\n",
    "\n",
    "#归一化数据\n",
    "params=normalization(params)\n",
    "radias=normalization(radias)\n",
    "sunhours=normalization(sunhours)\n",
    "features=normalization(features)\n",
    "# results=normalization(results)\n",
    "\n",
    "X=features\n",
    "y=sunhours\n",
    "\n",
    "X_train=X[:-400]\n",
    "y_train=y[:-400]\n",
    "X_test=X[-400:]\n",
    "y_test=y[-400:]"
   ]
  },
  {
   "cell_type": "markdown",
   "metadata": {},
   "source": [
    "# 模型选择\n",
    "多元线性回归"
   ]
  },
  {
   "cell_type": "code",
   "execution_count": null,
   "metadata": {},
   "outputs": [],
   "source": [
    "from sklearn import linear_model\n",
    "# regr = linear_model.LinearRegression()\n",
    "# regr = linear_model.Ridge(alpha=1.0)\n",
    "# regr = linear_model.Lasso(alpha=0.1)\n",
    "# regr = linear_model.BayesianRidge()\n",
    "regr = linear_model.SGDRegressor()"
   ]
  },
  {
   "cell_type": "markdown",
   "metadata": {},
   "source": [
    "支持向量机"
   ]
  },
  {
   "cell_type": "code",
   "execution_count": null,
   "metadata": {},
   "outputs": [],
   "source": [
    "from sklearn import svm\n",
    "regr = svm.SVR()"
   ]
  },
  {
   "cell_type": "markdown",
   "metadata": {},
   "source": [
    "KNN"
   ]
  },
  {
   "cell_type": "code",
   "execution_count": null,
   "metadata": {},
   "outputs": [],
   "source": [
    "from sklearn.neighbors import KNeighborsRegressor\n",
    "regr = KNeighborsRegressor(n_neighbors=10)"
   ]
  },
  {
   "cell_type": "markdown",
   "metadata": {},
   "source": [
    "决策树/极端决策树"
   ]
  },
  {
   "cell_type": "code",
   "execution_count": null,
   "metadata": {},
   "outputs": [],
   "source": [
    "from sklearn import tree\n",
    "regr = tree.DecisionTreeRegressor(max_depth=5)\n",
    "regr =tree.ExtraTreeRegressor(max_depth=5)"
   ]
  },
  {
   "cell_type": "markdown",
   "metadata": {},
   "source": [
    "高斯过程回归"
   ]
  },
  {
   "cell_type": "code",
   "execution_count": null,
   "metadata": {},
   "outputs": [],
   "source": [
    "from sklearn.gaussian_process import GaussianProcessRegressor\n",
    "regr = GaussianProcessRegressor()"
   ]
  },
  {
   "cell_type": "markdown",
   "metadata": {},
   "source": [
    "多层感知机"
   ]
  },
  {
   "cell_type": "code",
   "execution_count": null,
   "metadata": {},
   "outputs": [],
   "source": [
    "from sklearn.neural_network import MLPRegressor\n",
    "regr = MLPRegressor(max_iter=10000)"
   ]
  },
  {
   "cell_type": "markdown",
   "metadata": {},
   "source": [
    "偏最小二乘回归(Partial Least Squares)"
   ]
  },
  {
   "cell_type": "code",
   "execution_count": null,
   "metadata": {},
   "outputs": [],
   "source": [
    "from sklearn.cross_decomposition import PLSRegression\n",
    "regr = PLSRegression()"
   ]
  },
  {
   "cell_type": "markdown",
   "metadata": {},
   "source": [
    "集成方法"
   ]
  },
  {
   "cell_type": "code",
   "execution_count": null,
   "metadata": {},
   "outputs": [],
   "source": [
    "from sklearn import ensemble\n",
    "from sklearn.tree import DecisionTreeRegressor\n",
    "# rng = np.random.RandomState(1)\n",
    "# regr = ensemble.AdaBoostRegressor(\n",
    "#     DecisionTreeRegressor(max_depth=5), n_estimators=300, random_state=rng\n",
    "# )\n",
    "# regr=ensemble.RandomForestRegressor(n_estimators=40)\n",
    "# regr = ensemble.GradientBoostingRegressor(n_estimators=200)\n",
    "regr = ensemble.BaggingRegressor()\n",
    "\n"
   ]
  },
  {
   "cell_type": "markdown",
   "metadata": {},
   "source": [
    "## XGBoost"
   ]
  },
  {
   "cell_type": "code",
   "execution_count": 1,
   "metadata": {},
   "outputs": [],
   "source": [
    "from xgboost import XGBRFRegressor\n",
    "regr=XGBRFRegressor(n_estimators=100)"
   ]
  },
  {
   "cell_type": "markdown",
   "metadata": {},
   "source": [
    "# 训练与评价"
   ]
  },
  {
   "cell_type": "code",
   "execution_count": 7,
   "metadata": {},
   "outputs": [
    {
     "name": "stdout",
     "output_type": "stream",
     "text": [
      "Mean squared error: 0.073196\n",
      "Coefficient of determination: 0.934525\n"
     ]
    }
   ],
   "source": [
    "regr.fit(X_train, y_train)\n",
    "y_pred = regr.predict(X_test)\n",
    "\n",
    "from sklearn.metrics import mean_squared_error, r2_score\n",
    "print(\"Mean squared error: %f\" % mean_squared_error(y_test, y_pred))\n",
    "print(\"Coefficient of determination: %f\" % r2_score(y_test, y_pred))"
   ]
  },
  {
   "cell_type": "markdown",
   "metadata": {},
   "source": [
    "# 训练过程plot\n",
    "# 特征重要性分析"
   ]
  },
  {
   "cell_type": "code",
   "execution_count": 8,
   "metadata": {},
   "outputs": [
    {
     "name": "stdout",
     "output_type": "stream",
     "text": [
      "[0.00319788 0.00658504 0.00745246 0.01011401 0.01030708 0.00597007\n",
      " 0.00416056 0.00499694 0.00507756 0.00394338 0.00373189 0.0075455\n",
      " 0.00780352 0.00375595 0.30671322 0.01048019 0.02274881 0.00459579\n",
      " 0.31948954 0.2462899  0.00504066]\n"
     ]
    }
   ],
   "source": [
    "print(regr.feature_importances_)"
   ]
  }
 ],
 "metadata": {
  "interpreter": {
   "hash": "510318c1c53486003d3ee1a85879b175089efe6f644dfb9c608d76a2f0854493"
  },
  "kernelspec": {
   "display_name": "Python 3.9.7 64-bit ('gh_data': conda)",
   "language": "python",
   "name": "python3"
  },
  "language_info": {
   "codemirror_mode": {
    "name": "ipython",
    "version": 3
   },
   "file_extension": ".py",
   "mimetype": "text/x-python",
   "name": "python",
   "nbconvert_exporter": "python",
   "pygments_lexer": "ipython3",
   "version": "3.9.7"
  },
  "orig_nbformat": 4
 },
 "nbformat": 4,
 "nbformat_minor": 2
}
