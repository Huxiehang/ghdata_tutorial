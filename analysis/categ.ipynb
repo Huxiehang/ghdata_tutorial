{
 "cells": [
  {
   "cell_type": "code",
   "execution_count": null,
   "metadata": {},
   "outputs": [],
   "source": [
    "import pandas as pd\n",
    "import matplotlib.pyplot as plt\n",
    "import seaborn as sns\n",
    "\n",
    "plt.rcParams['font.sans-serif'] = ['SimHei'] # 用来正常显示中文标签 \n",
    "plt.rcParams['axes.unicode_minus'] = False # 用来正常显示负号\n",
    "plt.rcParams['figure.figsize'] = (20.0, 18.0)"
   ]
  },
  {
   "cell_type": "code",
   "execution_count": null,
   "metadata": {},
   "outputs": [],
   "source": [
    "excel_file='../data/test1.xlsx'\n",
    "df = pd.read_excel(excel_file, 'Sheet1', index_col=None, na_values=['NA'])\n",
    "df['建筑面积分类']=df['wlc_建筑面积']//100000\n",
    "df['sunhours_avg']=df['sunhours']/df['wlc_建筑表面积']\n",
    "df['radiation_avg']=df['radiation']/df['wlc_建筑表面积']"
   ]
  },
  {
   "cell_type": "markdown",
   "metadata": {},
   "source": [
    "# 使用分类数据进行绘图\n",
    "在关系图教程中，我们看到了如何使用不同的可视化表示来显示数据集中多个变量之间的关系。在示例中，我们重点介绍了主要关系位于两个数值变量之间的情况。如果其中一个主要变量是\"分类\"（分为离散组），那么使用更专业的可视化方法可能会有所帮助。"
   ]
  },
  {
   "cell_type": "markdown",
   "metadata": {},
   "source": [
    "### 分类散点图"
   ]
  },
  {
   "cell_type": "code",
   "execution_count": null,
   "metadata": {},
   "outputs": [],
   "source": [
    "sns.catplot(data=df, x='建筑面积分类',y=\"radiation_avg\", jitter=False)"
   ]
  },
  {
   "cell_type": "code",
   "execution_count": null,
   "metadata": {},
   "outputs": [],
   "source": [
    "sns.catplot(data=df, x='建筑面积分类',y=\"radiation_avg\", kind=\"swarm\")"
   ]
  },
  {
   "cell_type": "markdown",
   "metadata": {},
   "source": [
    "## 箱线图"
   ]
  },
  {
   "cell_type": "code",
   "execution_count": null,
   "metadata": {},
   "outputs": [],
   "source": [
    "sns.catplot(x=\"建筑面积分类\", y=\"radiation_avg\", kind=\"box\", data=df)"
   ]
  }
 ],
 "metadata": {
  "interpreter": {
   "hash": "b3037b46647b82b4f37701dd739c3d1fe54db41a834dbd5d4015892ce34ad046"
  },
  "kernelspec": {
   "display_name": "Python 3.9.7 64-bit ('gh_data1': conda)",
   "language": "python",
   "name": "python3"
  },
  "language_info": {
   "codemirror_mode": {
    "name": "ipython",
    "version": 3
   },
   "file_extension": ".py",
   "mimetype": "text/x-python",
   "name": "python",
   "nbconvert_exporter": "python",
   "pygments_lexer": "ipython3",
   "version": "3.9.7"
  },
  "orig_nbformat": 4
 },
 "nbformat": 4,
 "nbformat_minor": 2
}
