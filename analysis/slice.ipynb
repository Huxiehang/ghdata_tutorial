{
 "cells": [
  {
   "cell_type": "code",
   "execution_count": null,
   "metadata": {},
   "outputs": [],
   "source": [
    "import pandas as pd"
   ]
  },
  {
   "cell_type": "code",
   "execution_count": null,
   "metadata": {},
   "outputs": [],
   "source": [
    "excel_file='../data/test1.xlsx'\n",
    "df = pd.read_excel(excel_file, 'Sheet1', index_col=None, na_values=['NA'])"
   ]
  },
  {
   "cell_type": "markdown",
   "metadata": {},
   "source": [
    "# []方法\n",
    "可以用中括号[]完成对数据框的切片。利用列名对列进行切片，利用列的布尔序列对行进行切片。"
   ]
  },
  {
   "cell_type": "code",
   "execution_count": null,
   "metadata": {},
   "outputs": [],
   "source": [
    "# 选取radiation列\n",
    "print(df['radiation'])"
   ]
  },
  {
   "cell_type": "code",
   "execution_count": null,
   "metadata": {},
   "outputs": [],
   "source": [
    "# 选取radiation和sunhours列\n",
    "print(df[['radiation','sunhours']])"
   ]
  },
  {
   "cell_type": "code",
   "execution_count": null,
   "metadata": {},
   "outputs": [],
   "source": [
    "# 条件行切片\n",
    "print(df[df['radiation'].map(lambda x: x < 0.05)])"
   ]
  },
  {
   "cell_type": "code",
   "execution_count": null,
   "metadata": {},
   "outputs": [],
   "source": [
    "# map返回布尔列表\n",
    "print(df['radiation'].map(lambda x: x < 0.05))"
   ]
  },
  {
   "cell_type": "code",
   "execution_count": null,
   "metadata": {},
   "outputs": [],
   "source": [
    "# 多条件行切片\n",
    "print(df[df['radiation'].map(lambda x: x < 0.05) & df['sunhours'].map(lambda x: x > 30000)])"
   ]
  },
  {
   "cell_type": "markdown",
   "metadata": {},
   "source": [
    "# iloc方法\n",
    "\n",
    "用iloc方法，使用行列的位置对数据框进行切片。支持布尔切片。"
   ]
  },
  {
   "cell_type": "markdown",
   "metadata": {},
   "source": [
    "#### 行切片\n",
    "\n",
    "只传入一个参数时，表示对行进行切片。参数为整数返回序列，参数为列表返回数据框。正数表示正向切片， 负数表示反向切片。"
   ]
  },
  {
   "cell_type": "code",
   "execution_count": null,
   "metadata": {},
   "outputs": [],
   "source": [
    "# 选取第一行（序列）\n",
    "print(df.iloc[0])\n",
    "# 选取第一行（数据框）\n",
    "print(df.iloc[[0]])\n",
    "# 选取前2行\n",
    "print(df.iloc[:20:2])"
   ]
  },
  {
   "cell_type": "code",
   "execution_count": null,
   "metadata": {},
   "outputs": [],
   "source": [
    "# 选取4,5,6行（布尔列表切片） !需要和列表行数相等\n",
    "print(df.iloc[[False, False, False, True, True, True, False]])"
   ]
  },
  {
   "cell_type": "code",
   "execution_count": null,
   "metadata": {},
   "outputs": [],
   "source": [
    "print(df.iloc[list(df['radiation'].map(lambda x: x < 0.05))])"
   ]
  },
  {
   "cell_type": "markdown",
   "metadata": {},
   "source": [
    "#### 列切片\n",
    "\n",
    "使用iloc方法进行列切片时，需要行参数设置为:,表示选取所有的行。列切片方法与行切片相同。"
   ]
  },
  {
   "cell_type": "code",
   "execution_count": null,
   "metadata": {},
   "outputs": [],
   "source": [
    "# 选取第一列(序列)\n",
    "print(df.iloc[:, 0])\n",
    "# 选取第一列(数据框)\n",
    "print(df.iloc[:, [0]])\n",
    "# 选取列名中包含wlc_的列\n",
    "print(df.iloc[:, df.columns.str.contains('wlc_')])"
   ]
  },
  {
   "cell_type": "markdown",
   "metadata": {},
   "source": [
    "#### 组合切片\n",
    "\n",
    "同时设置行参数与列参数，使用iloc进行组合切片。"
   ]
  },
  {
   "cell_type": "code",
   "execution_count": null,
   "metadata": {},
   "outputs": [],
   "source": [
    "# 选取第一行，第一列的元素\n",
    "print(df.iloc[0, 0])\n",
    "# 选取第1,3行，2,4列\n",
    "print(df.iloc[[0, 2], [1, 3]])\n",
    "# 选取Name中包含o的行，且列名中包含a的列\n",
    "print(df.iloc[list(df['radiation'].map(lambda x: x < 0.05)), df.columns.str.contains('wlc_')])"
   ]
  },
  {
   "cell_type": "markdown",
   "metadata": {},
   "source": [
    "# loc方法\n",
    "使用loc方法，用行列的名字对数据框进行切片，同时支持布尔索引。"
   ]
  },
  {
   "cell_type": "markdown",
   "metadata": {},
   "source": [
    "#### 行切片\n",
    "传入一个参数时，只对行进行切片。"
   ]
  },
  {
   "cell_type": "code",
   "execution_count": null,
   "metadata": {},
   "outputs": [],
   "source": [
    "# 选取索引为100的行\n",
    "print(df.loc[100])\n",
    "# 选取索引为100,1的行\n",
    "print(df.loc[[100,1]])\n",
    "# 选取Name字段中包含o的行\n",
    "print(df.loc[list(df['radiation'].map(lambda x: x < 0.05))])\n",
    "# 选取索引中包含3或4的行\n",
    "print(df.loc[df.index.map(lambda x: x %177==0)])"
   ]
  },
  {
   "cell_type": "markdown",
   "metadata": {},
   "source": [
    "#### 列切片\n",
    "使用loc方法进行列切片时，行参数需要设置为:,表示选取所有行。列切片方法与行切片相同。"
   ]
  },
  {
   "cell_type": "code",
   "execution_count": null,
   "metadata": {},
   "outputs": [],
   "source": [
    "# 选取radiation和Age列\n",
    "print(df.loc[:, ['radiation', 'sunhours']])\n",
    "\n",
    "# 选取radiation列及后面所有的列\n",
    "print(df.loc[:, 'radiation':])\n",
    "\n",
    "# 选取包含wlc_字符的所有列\n",
    "print(df.loc[:, df.columns.str.contains('wlc_')])"
   ]
  },
  {
   "cell_type": "markdown",
   "metadata": {},
   "source": [
    "#### 组合切片\n",
    "同时设置行参数和列参数，使用loc方法进行组合切片。"
   ]
  },
  {
   "cell_type": "markdown",
   "metadata": {},
   "source": [
    "# filter方法\n",
    "filter方法与loc方法类似，都是基于索引名和列名进行切片。"
   ]
  },
  {
   "cell_type": "code",
   "execution_count": null,
   "metadata": {},
   "outputs": [],
   "source": [
    "# 选取列(默认)\n",
    "print(df.filter(items=['radiation', 'sunhours']))\n",
    "# 选取行\n",
    "print(df.filter(items=[],axis=0))\n",
    "# 选取列名包含字符e的列\n",
    "print(df.filter(like='wlc_'))\n",
    "# 选取列名是字符‘面积’结尾的列\n",
    "print(df.filter(regex='面积$'))"
   ]
  },
  {
   "cell_type": "markdown",
   "metadata": {},
   "source": [
    "# 添加列\n",
    "### 根据已有列添加新列"
   ]
  },
  {
   "cell_type": "code",
   "execution_count": null,
   "metadata": {},
   "outputs": [],
   "source": [
    "df['建筑面积分类']=df['wlc_建筑面积']//100000\n",
    "df['sunhours_avg']=df['sunhours']/df['wlc_建筑表面积']\n",
    "df['radiation_avg']=df['radiation']/df['wlc_建筑表面积']"
   ]
  },
  {
   "cell_type": "markdown",
   "metadata": {},
   "source": [
    "### 直接添加新列"
   ]
  },
  {
   "cell_type": "code",
   "execution_count": null,
   "metadata": {},
   "outputs": [],
   "source": [
    "df.insert(loc=0,column='source',value=0)"
   ]
  }
 ],
 "metadata": {
  "interpreter": {
   "hash": "b3037b46647b82b4f37701dd739c3d1fe54db41a834dbd5d4015892ce34ad046"
  },
  "kernelspec": {
   "display_name": "Python 3.9.7 64-bit ('gh_data1': conda)",
   "language": "python",
   "name": "python3"
  },
  "language_info": {
   "codemirror_mode": {
    "name": "ipython",
    "version": 3
   },
   "file_extension": ".py",
   "mimetype": "text/x-python",
   "name": "python",
   "nbconvert_exporter": "python",
   "pygments_lexer": "ipython3",
   "version": "3.9.7"
  },
  "orig_nbformat": 4
 },
 "nbformat": 4,
 "nbformat_minor": 2
}
