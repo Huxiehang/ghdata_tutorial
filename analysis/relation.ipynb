{
 "cells": [
  {
   "cell_type": "code",
   "execution_count": null,
   "metadata": {},
   "outputs": [],
   "source": [
    "import pandas as pd\n",
    "import matplotlib.pyplot as plt\n",
    "import seaborn as sns\n",
    "\n",
    "plt.rcParams['font.sans-serif'] = ['SimHei'] # 用来正常显示中文标签 \n",
    "plt.rcParams['axes.unicode_minus'] = False # 用来正常显示负号\n",
    "plt.rcParams['figure.figsize'] = (20.0, 18.0)"
   ]
  },
  {
   "cell_type": "code",
   "execution_count": null,
   "metadata": {},
   "outputs": [],
   "source": [
    "excel_file='../data/test1.xlsx'\n",
    "df = pd.read_excel(excel_file, 'Sheet1', index_col=None, na_values=['NA'])\n",
    "df['建筑面积分类']=df['wlc_建筑面积']//50000\n",
    "df['sunhours_avg']=df['sunhours']/df['wlc_建筑表面积']\n",
    "df['radiation_avg']=df['radiation']/df['wlc_建筑表面积']"
   ]
  },
  {
   "cell_type": "markdown",
   "metadata": {},
   "source": [
    "# 可视化统计关系\n",
    "统计分析是了解数据集中的变量如何相互关联以及这些关系如何依赖于其他变量的过程。可视化可以成为此过程的核心组件，因为当数据正确可视化时，人类视觉系统可以看到指示关系的趋势和模式。"
   ]
  },
  {
   "cell_type": "code",
   "execution_count": null,
   "metadata": {},
   "outputs": [],
   "source": [
    "sns.relplot(x=\"radiation\", y=\"sunhours\", data=df)"
   ]
  },
  {
   "cell_type": "code",
   "execution_count": null,
   "metadata": {},
   "outputs": [],
   "source": [
    "sns.relplot(x=\"radiation\", y=\"sunhours\", hue=\"wlc_建筑面积\",palette=\"ch:r=-.5,l=.75\",size=\"wlc_占地面积\", sizes=(3, 30), data=df)\n",
    "plt.savefig('test.png', dpi = 300)"
   ]
  },
  {
   "cell_type": "code",
   "execution_count": null,
   "metadata": {},
   "outputs": [],
   "source": [
    "sns.relplot(x=\"wlc_建筑体积系数\", y=\"sunhours_avg\",hue=\"radiation_avg\", col=\"建筑面积分类\", col_wrap=4, data=df)"
   ]
  },
  {
   "cell_type": "markdown",
   "metadata": {},
   "source": [
    "线图"
   ]
  },
  {
   "cell_type": "code",
   "execution_count": null,
   "metadata": {},
   "outputs": [],
   "source": [
    "sns.relplot(x=\"X4\", y=\"sunhours\", kind=\"line\",data=df)"
   ]
  },
  {
   "cell_type": "code",
   "execution_count": null,
   "metadata": {},
   "outputs": [],
   "source": [
    "sns.relplot(x=\"X4\", y=\"sunhours\", kind=\"line\",ci=None,data=df)"
   ]
  },
  {
   "cell_type": "code",
   "execution_count": null,
   "metadata": {},
   "outputs": [],
   "source": [
    "sns.relplot(x=\"X4\", y=\"sunhours\", kind=\"line\", ci=\"sd\", data=df)"
   ]
  },
  {
   "cell_type": "code",
   "execution_count": null,
   "metadata": {},
   "outputs": [],
   "source": [
    "sns.relplot(x=\"X4\", y=\"sunhours\", kind=\"line\", estimator=None, data=df)\n"
   ]
  },
  {
   "cell_type": "code",
   "execution_count": null,
   "metadata": {},
   "outputs": [],
   "source": [
    "sns.relplot(x=\"wlc_建筑表面积\", y=\"sunhours\", kind=\"line\", data=df)"
   ]
  },
  {
   "cell_type": "code",
   "execution_count": null,
   "metadata": {},
   "outputs": [],
   "source": [
    "sns.relplot(x=\"wlc_平均层数\", y=\"sunhours_avg\",hue=\"建筑面积分类\", estimator=None, kind=\"line\", data=df)"
   ]
  },
  {
   "cell_type": "code",
   "execution_count": null,
   "metadata": {},
   "outputs": [],
   "source": [
    "df['建筑面积分类']=df['wlc_建筑面积']//200000\n",
    "sns.relplot(x=\"wlc_平均层数\", y=\"sunhours_avg\",col=\"建筑面积分类\", kind=\"line\", data=df)"
   ]
  }
 ],
 "metadata": {
  "interpreter": {
   "hash": "b3037b46647b82b4f37701dd739c3d1fe54db41a834dbd5d4015892ce34ad046"
  },
  "kernelspec": {
   "display_name": "Python 3.9.7 64-bit ('gh_data1': conda)",
   "language": "python",
   "name": "python3"
  },
  "language_info": {
   "codemirror_mode": {
    "name": "ipython",
    "version": 3
   },
   "file_extension": ".py",
   "mimetype": "text/x-python",
   "name": "python",
   "nbconvert_exporter": "python",
   "pygments_lexer": "ipython3",
   "version": "3.9.7"
  },
  "orig_nbformat": 4
 },
 "nbformat": 4,
 "nbformat_minor": 2
}
